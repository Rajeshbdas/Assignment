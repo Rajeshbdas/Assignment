{
  "nbformat": 4,
  "nbformat_minor": 0,
  "metadata": {
    "kernelspec": {
      "display_name": "Python 3",
      "language": "python",
      "name": "python3"
    },
    "language_info": {
      "codemirror_mode": {
        "name": "ipython",
        "version": 3
      },
      "file_extension": ".py",
      "mimetype": "text/x-python",
      "name": "python",
      "nbconvert_exporter": "python",
      "pygments_lexer": "ipython3",
      "version": "3.8.5"
    },
    "colab": {
      "name": "loop_exercise.ipynb",
      "provenance": [],
      "collapsed_sections": []
    }
  },
  "cells": [
    {
      "cell_type": "markdown",
      "metadata": {
        "id": "Mup7S9cQqCMR"
      },
      "source": [
        "### The questions for the exercises are given above the cells and the expected output is given below the cell. Please type the code inserting a new cell below the question because if you run the expected output cell the output would vanish! Happy learning! "
      ]
    },
    {
      "cell_type": "markdown",
      "metadata": {
        "id": "jGbN1xU1qCMd"
      },
      "source": [
        "## 1. Write a Python program to find those numbers which are divisible by 7 and multiple of 5, between 1500 and 2700 (both included). "
      ]
    },
    {
      "cell_type": "code",
      "metadata": {
        "id": "K6R-V8pvqCMg",
        "colab": {
          "base_uri": "https://localhost:8080/"
        },
        "outputId": "eca1618e-b342-4466-f1aa-41644654b284"
      },
      "source": [
        "\n",
        "for i in range(1500, 2701):\n",
        "   if (i%7==0) and (i%5==0):\n",
        "      n.append(str(i))\n",
        "   \n",
        "print (n)\n"
      ],
      "execution_count": 8,
      "outputs": [
        {
          "output_type": "stream",
          "text": [
            "['1505', '1540', '1575', '1610', '1645', '1680', '1715', '1750', '1785', '1820', '1855', '1890', '1925', '1960', '1995', '2030', '2065', '2100', '2135', '2170', '2205', '2240', '2275', '2310', '2345', '2380', '2415', '2450', '2485', '2520', '2555', '2590', '2625', '2660', '2695', '1505', '1540', '1575', '1610', '1645', '1680', '1715', '1750', '1785', '1820', '1855', '1890', '1925', '1960', '1995', '2030', '2065', '2100', '2135', '2170', '2205', '2240', '2275', '2310', '2345', '2380', '2415', '2450', '2485', '2520', '2555', '2590', '2625', '2660', '2695', '1505', '1540', '1575', '1610', '1645', '1680', '1715', '1750', '1785', '1820', '1855', '1890', '1925', '1960', '1995', '2030', '2065', '2100', '2135', '2170', '2205', '2240', '2275', '2310', '2345', '2380', '2415', '2450', '2485', '2520', '2555', '2590', '2625', '2660', '2695', '1505', '1540', '1575', '1610', '1645', '1680', '1715', '1750', '1785', '1820', '1855', '1890', '1925', '1960', '1995', '2030', '2065', '2100', '2135', '2170', '2205', '2240', '2275', '2310', '2345', '2380', '2415', '2450', '2485', '2520', '2555', '2590', '2625', '2660', '2695']\n"
          ],
          "name": "stdout"
        }
      ]
    },
    {
      "cell_type": "markdown",
      "metadata": {
        "id": "oJsT5h9bqCMj"
      },
      "source": [
        "## 2. Write a Python program to construct the following pattern, using a nested for loop.\n"
      ]
    },
    {
      "cell_type": "code",
      "metadata": {
        "id": "VNaUkDgUqCMk",
        "colab": {
          "base_uri": "https://localhost:8080/"
        },
        "outputId": "93a6ec13-d4d1-4372-a476-c7f9ac881087"
      },
      "source": [
        "a=5\n",
        "for i in range(a):\n",
        "    for j in range(i):\n",
        "        print ('* ', end=\"\")\n",
        "    print('')\n",
        "\n",
        "for i in range(a,0,-1):\n",
        "    for j in range(i):\n",
        "        print('* ', end=\"\")\n",
        "    print('')"
      ],
      "execution_count": 2,
      "outputs": [
        {
          "output_type": "stream",
          "text": [
            "\n",
            "* \n",
            "* * \n",
            "* * * \n",
            "* * * * \n",
            "* * * * * \n",
            "* * * * \n",
            "* * * \n",
            "* * \n",
            "* \n"
          ],
          "name": "stdout"
        }
      ]
    },
    {
      "cell_type": "markdown",
      "metadata": {
        "id": "9x1Vn-zIqCMm"
      },
      "source": [
        "## 3. Write a Python program to count the number of even and odd numbers from a series of numbers."
      ]
    },
    {
      "cell_type": "code",
      "metadata": {
        "id": "2kZat6_PqCMn",
        "colab": {
          "base_uri": "https://localhost:8080/"
        },
        "outputId": "c0c95738-5f9b-414d-fb10-fdf44b3a7246"
      },
      "source": [
        "n=(1,2,3,4,5,6,7,8,9,10)\n",
        "odd = 0\n",
        "even = 0\n",
        "for x in n:\n",
        "    if x%2==0:\n",
        "        even+=1\n",
        "    else:\n",
        "        odd+=1\n",
        "print(\"count of even numbers in given series:\",even)\n",
        "print(\"count of odd numbers in given series:\",odd)"
      ],
      "execution_count": 4,
      "outputs": [
        {
          "output_type": "stream",
          "text": [
            "count of even numbers in given series: 5\n",
            "count of odd numbers in given series: 5\n"
          ],
          "name": "stdout"
        }
      ]
    },
    {
      "cell_type": "markdown",
      "metadata": {
        "id": "2T3Yni2mqCMp"
      },
      "source": [
        "## 4. Write a Python program to find numbers between 100 and 400 (both included) where each digit of a number is an even number. The numbers obtained should be printed in a comma-separated sequence."
      ]
    },
    {
      "cell_type": "code",
      "metadata": {
        "id": "EZM5ZoERqCMq",
        "colab": {
          "base_uri": "https://localhost:8080/"
        },
        "outputId": "5d27e9e2-a152-4259-b1e7-45ea61ef54d5"
      },
      "source": [
        "n=[]\n",
        "for i in range(100,401):\n",
        "    j=str(i)\n",
        "    if(int(j)%2 != 0):\n",
        "      \"not even:\"\n",
        "    else:\n",
        "\n",
        "    \n",
        "        n.append(j)\n",
        "print(\",\".join(n))"
      ],
      "execution_count": 23,
      "outputs": [
        {
          "output_type": "stream",
          "text": [
            "100,102,104,106,108,110,112,114,116,118,120,122,124,126,128,130,132,134,136,138,140,142,144,146,148,150,152,154,156,158,160,162,164,166,168,170,172,174,176,178,180,182,184,186,188,190,192,194,196,198,200,202,204,206,208,210,212,214,216,218,220,222,224,226,228,230,232,234,236,238,240,242,244,246,248,250,252,254,256,258,260,262,264,266,268,270,272,274,276,278,280,282,284,286,288,290,292,294,296,298,300,302,304,306,308,310,312,314,316,318,320,322,324,326,328,330,332,334,336,338,340,342,344,346,348,350,352,354,356,358,360,362,364,366,368,370,372,374,376,378,380,382,384,386,388,390,392,394,396,398,400\n"
          ],
          "name": "stdout"
        }
      ]
    },
    {
      "cell_type": "markdown",
      "metadata": {
        "id": "ETfC9AJWqCMs"
      },
      "source": [
        "## 5. Write a Python program to calculate a dog's age in dog's years. Go to the editor\n",
        "Note: For the first two years, a dog year is equal to 10.5 human years. After that, each dog year equals 4 human years."
      ]
    },
    {
      "cell_type": "code",
      "metadata": {
        "id": "MgU_NwvfqCMt",
        "colab": {
          "base_uri": "https://localhost:8080/"
        },
        "outputId": "f005edc0-0b1d-4cc7-c687-0cd67364e922"
      },
      "source": [
        "hum_age=int(input(\"Input dog age in human years:\"))\n",
        "dog_age=0\n",
        "for i in range(0,hum_age):\n",
        "  print(i)\n",
        "  if i == 1 or i == 2 :\n",
        "   dog_age = dog_age + 10.5\n",
        "   \n",
        "  else:\n",
        "        dog_age = dog_age + 4\n",
        "        \n",
        "print(\"The dog's age in dog's years is:\",dog_age)"
      ],
      "execution_count": 55,
      "outputs": [
        {
          "output_type": "stream",
          "text": [
            "Input dog age in human years:20\n",
            "0\n",
            "1\n",
            "2\n",
            "3\n",
            "4\n",
            "5\n",
            "6\n",
            "7\n",
            "8\n",
            "9\n",
            "10\n",
            "11\n",
            "12\n",
            "13\n",
            "14\n",
            "15\n",
            "16\n",
            "17\n",
            "18\n",
            "19\n",
            "The dog's age in dog's years is: 93.0\n"
          ],
          "name": "stdout"
        }
      ]
    },
    {
      "cell_type": "markdown",
      "metadata": {
        "id": "i_atsxiXqCMv"
      },
      "source": [
        "## 6. Write a Python function to find the Max of three numbers."
      ]
    },
    {
      "cell_type": "code",
      "metadata": {
        "id": "BYy8mxFXqCMw",
        "colab": {
          "base_uri": "https://localhost:8080/"
        },
        "outputId": "da530e0b-3de6-4db9-e7ff-572f1af17d8a"
      },
      "source": [
        "x=int(input(\"Input first number:\"))\n",
        "y=int(input(\"input second number\"))\n",
        "z=int(input(\"input third number\"))\n",
        "i=[x,y,z]\n",
        "print(\"The Three numbers are:\",i)\n",
        "def max(x,y,z):\n",
        "    if x>y and x>z:\n",
        "        return x\n",
        "    elif y>x and y>z:\n",
        "        return y\n",
        "    else:\n",
        "        return z\n",
        "print(max(x,y,z))"
      ],
      "execution_count": 59,
      "outputs": [
        {
          "output_type": "stream",
          "text": [
            "Input first number:1\n",
            "input second number7\n",
            "input third number6\n",
            "The Three numbers are: [1, 7, 6]\n",
            "7\n"
          ],
          "name": "stdout"
        }
      ]
    },
    {
      "cell_type": "markdown",
      "metadata": {
        "id": "d5zNfjVUqCMx"
      },
      "source": [
        "## 7. Write a Python function that takes a number as a parameter and check the number is prime or not."
      ]
    },
    {
      "cell_type": "code",
      "metadata": {
        "id": "U30Ohq81qCMy",
        "colab": {
          "base_uri": "https://localhost:8080/"
        },
        "outputId": "760b95ce-819d-4ab9-9923-20025134eebf"
      },
      "source": [
        "n = int(input(\"enter number:\"))\n",
        "print(\"number:\",n)\n",
        "def prime_number(n):\n",
        "    if (n==1):\n",
        "        return \"not a prime number\"\n",
        "    elif (n==2):\n",
        "        return \"prime number\"\n",
        "    else:\n",
        "        for x in range (2,n):\n",
        "            if (n%x == 0):\n",
        "                return \"not a prime number\"\n",
        "    return \"prime number\"\n",
        "print(prime_number(n))"
      ],
      "execution_count": 63,
      "outputs": [
        {
          "output_type": "stream",
          "text": [
            "enter number:3\n",
            "number: 3\n",
            "prime number\n"
          ],
          "name": "stdout"
        }
      ]
    },
    {
      "cell_type": "markdown",
      "metadata": {
        "id": "IvPlbnBoqCMz"
      },
      "source": [
        "## 8. Write a Python function that accepts a string and calculate the number of upper case letters and lower case letters. Go to the editor\n"
      ]
    },
    {
      "cell_type": "code",
      "metadata": {
        "id": "aOP6gmZvqCM0",
        "colab": {
          "base_uri": "https://localhost:8080/"
        },
        "outputId": "b06f8d81-abab-47b6-bc63-499a082933dd"
      },
      "source": [
        "def cal_strg(s):\n",
        "  uc=0\n",
        "  lc=0\n",
        "  for i in s:\n",
        "    if i.isupper():\n",
        "      uc=uc+1\n",
        "    elif i.islower():\n",
        "      lc=lc+1 \n",
        "\n",
        "  print(\"count of uppercase : \",uc)\n",
        "  print(\"count of lowercase : \",lc)\n",
        "cal_strg('aaAACs Yzi')"
      ],
      "execution_count": 77,
      "outputs": [
        {
          "output_type": "stream",
          "text": [
            "count of uppercase :  4\n",
            "count of lowercase :  5\n"
          ],
          "name": "stdout"
        }
      ]
    },
    {
      "cell_type": "markdown",
      "metadata": {
        "id": "2wNceY9zqCM5"
      },
      "source": [
        "## 9. Write a Python program to reverse a string. "
      ]
    },
    {
      "cell_type": "code",
      "metadata": {
        "id": "g82ZQQs-qCM6",
        "colab": {
          "base_uri": "https://localhost:8080/",
          "height": 35
        },
        "outputId": "4c78d007-d569-41e1-8fc2-22dc0b4917fd"
      },
      "source": [
        "def reverse(str):\n",
        "    str = str[::-1]\n",
        "    return str\n",
        "reverse('abcdefgh')\n",
        "\n"
      ],
      "execution_count": 78,
      "outputs": [
        {
          "output_type": "execute_result",
          "data": {
            "application/vnd.google.colaboratory.intrinsic+json": {
              "type": "string"
            },
            "text/plain": [
              "'hgfedcba'"
            ]
          },
          "metadata": {
            "tags": []
          },
          "execution_count": 78
        }
      ]
    },
    {
      "cell_type": "markdown",
      "metadata": {
        "id": "QzAG43UHqCM8"
      },
      "source": [
        "## 10. Write a Python program to find  the greatest common divisor (gcd) of two integers."
      ]
    },
    {
      "cell_type": "code",
      "metadata": {
        "id": "FQpMGHgyqCM9",
        "colab": {
          "base_uri": "https://localhost:8080/"
        },
        "outputId": "a268c5a5-130e-486c-f50f-bd24078bcf0d"
      },
      "source": [
        "import math \n",
        "def gcd_num(x, y):\n",
        "    return math.gcd(x,y)\n",
        "\n",
        "print(gcd_num(12, 14))\n"
      ],
      "execution_count": 81,
      "outputs": [
        {
          "output_type": "stream",
          "text": [
            "2\n"
          ],
          "name": "stdout"
        }
      ]
    },
    {
      "cell_type": "markdown",
      "metadata": {
        "id": "H8IuUYpgqCM-"
      },
      "source": [
        "## 11. Write a function to find if a string is a palindrome or not! \n",
        "eg: \n",
        "\"NAMAN\" - is a palindrome \n",
        "\"INCEPTEZ\" - is not a palindrome! "
      ]
    },
    {
      "cell_type": "code",
      "metadata": {
        "id": "fmh4Aye9qCM_",
        "colab": {
          "base_uri": "https://localhost:8080/"
        },
        "outputId": "4a9d2128-b280-41ef-c237-7c627475a1d9"
      },
      "source": [
        "str = 'NAMAN'\n",
        "def reverse(str):\n",
        "  if str == str[::-1]:\n",
        "     print(\"is a palindrome\")\n",
        "  else:\n",
        "     print(\"is not a palindrome\")    \n",
        "print(reverse(str)) "
      ],
      "execution_count": 96,
      "outputs": [
        {
          "output_type": "stream",
          "text": [
            "is not a palindrome\n",
            "None\n"
          ],
          "name": "stdout"
        }
      ]
    },
    {
      "cell_type": "markdown",
      "metadata": {
        "id": "xZm1ZJwvqCNA"
      },
      "source": [
        "## 12. Write a recurssive function to find if a string is a palindrome or not! "
      ]
    },
    {
      "cell_type": "code",
      "metadata": {
        "id": "apq6Osg2qCNB",
        "colab": {
          "base_uri": "https://localhost:8080/"
        },
        "outputId": "92e716a0-0fc1-4934-a232-e423454e9041"
      },
      "source": [
        "str = 'NAMAN'\n",
        "def reverse(str):\n",
        "  if str == str[::-1]:\n",
        "     print(\"is a palindrome\")\n",
        "  else:\n",
        "     print(\"is not a palindrome\")    \n",
        "print(reverse(str)) "
      ],
      "execution_count": 97,
      "outputs": [
        {
          "output_type": "stream",
          "text": [
            "is a palindrome\n",
            "None\n"
          ],
          "name": "stdout"
        }
      ]
    }
  ]
}